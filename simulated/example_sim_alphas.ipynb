{
 "cells": [
  {
   "cell_type": "markdown",
   "id": "73ad8ca0d276ed2d",
   "metadata": {
    "collapsed": false
   },
   "source": [
    "## Synthetic Dataset Analysis\n",
    "This notebook focuses on how the alpha parameter influences the predictive model using a synthetic dataset."
   ]
  },
  {
   "cell_type": "code",
   "execution_count": 2,
   "id": "initial_id",
   "metadata": {
    "ExecuteTime": {
     "end_time": "2024-03-17T13:03:20.855622Z",
     "start_time": "2024-03-17T13:03:20.851489Z"
    },
    "collapsed": true
   },
   "outputs": [],
   "source": [
    "import sys\n",
    "sys.path.append(\"..\")\n",
    "\n",
    "import os\n",
    "import pandas as pd\n",
    "import random\n",
    "import numpy as np\n",
    "import torch\n",
    "from train import train_conformance_inference\n",
    "from data_sim import load_data\n",
    "\n",
    "torch.manual_seed(0)\n",
    "random.seed(0)\n",
    "np.random.seed(0)\n"
   ]
  },
  {
   "cell_type": "markdown",
   "id": "c49f39c7967a6b70",
   "metadata": {
    "collapsed": false
   },
   "source": [
    "We initialize the main parameters used during the training of the predictive model. The model is training using a n_fold cross-validation approach. The number of epochs, batch size, learning rate, weight decay are set to 1000, 64, 0.001, and 0.01, respectively. These values ought to be adjusted in accordance with the specific requirements of the problem, potentially through the application of a grid search technique.\n",
    "The classification model is trained with an early stop of 4 and no delta. The regression model uses an early stop of 6 with a no delta."
   ]
  },
  {
   "cell_type": "code",
   "execution_count": 2,
   "id": "35394995442dadc6",
   "metadata": {
    "ExecuteTime": {
     "end_time": "2024-03-17T13:00:16.380137Z",
     "start_time": "2024-03-17T13:00:16.376883Z"
    }
   },
   "outputs": [],
   "source": [
    "n_folds = 5\n",
    "n_epochs = 1000\n",
    "batch_size = 64\n",
    "learning_rate = 0.001\n",
    "weight_decay = 0.01\n",
    "alpha = 0.1\n",
    "patience_classification = 4\n",
    "min_delta_classification = 0.0\n",
    "patience_regression = 6\n",
    "min_delta_regression = 0.0"
   ]
  },
  {
   "cell_type": "markdown",
   "id": "4e7e546c10ebdf69",
   "metadata": {
    "collapsed": false
   },
   "source": [
    "In this instance, we employ a distinct combination of input variables, with the `Y` variable serving as the class variable. The dataset is partitioned into training and test sets in a 75/25 ratio."
   ]
  },
  {
   "cell_type": "code",
   "execution_count": 3,
   "id": "24387e4d5fbd4d08",
   "metadata": {
    "ExecuteTime": {
     "end_time": "2024-03-17T13:00:16.401115Z",
     "start_time": "2024-03-17T13:00:16.382120Z"
    }
   },
   "outputs": [],
   "source": [
    "file = os.path.join(\"sim\", \"sim_1.csv\")\n",
    "# We select the following combination of variables\n",
    "selected_combination = ['X1', 'X2', 'X3', 'X4', 'X5']\n",
    "# We load the simulation data using load_data auxiliary function \n",
    "data = load_data(file, selected_combination)\n",
    "\n",
    "# We divide data into training and test splits in a 75-25 ratio.\n",
    "n = len(data['y'])\n",
    "indices = random.sample(np.arange(n).tolist(), n)\n",
    "train_split = indices[:int((3*n) / 4)]\n",
    "test_split = indices[int((3*n) / 4):]\n",
    "\n",
    "train_data = {\n",
    "    'x': data['x'][train_split],\n",
    "    'y': data['y'][train_split],\n",
    "    'w': data['w'][train_split],\n",
    "    # 't': data['t'][train_split],\n",
    "    'z': data['z'][train_split]\n",
    "}\n"
   ]
  },
  {
   "cell_type": "markdown",
   "id": "80f1c0f0f07e2816",
   "metadata": {
    "collapsed": false
   },
   "source": [
    "We standardize the input data of the training set using the z-score."
   ]
  },
  {
   "cell_type": "code",
   "execution_count": 4,
   "id": "3ddcd3a214efba4e",
   "metadata": {
    "ExecuteTime": {
     "end_time": "2024-03-17T13:00:16.401580Z",
     "start_time": "2024-03-17T13:00:16.393728Z"
    },
    "collapsed": false
   },
   "outputs": [],
   "source": [
    "# Scale training data\n",
    "from sklearn.preprocessing import StandardScaler\n",
    "scaler = StandardScaler()\n",
    "train_data['x'] = scaler.fit_transform(train_data['x'])"
   ]
  },
  {
   "cell_type": "markdown",
   "id": "e27e92688e519199",
   "metadata": {
    "collapsed": false
   },
   "source": [
    "The input data of the test set are also standardized using the standard scaler previously trained using the training set. "
   ]
  },
  {
   "cell_type": "code",
   "execution_count": 5,
   "id": "d413a1c9f2f932b8",
   "metadata": {
    "ExecuteTime": {
     "end_time": "2024-03-17T13:00:16.405819Z",
     "start_time": "2024-03-17T13:00:16.400344Z"
    },
    "collapsed": false
   },
   "outputs": [],
   "source": [
    "test_data = {\n",
    "    'x': data['x'][test_split],\n",
    "    'y': data['y'][test_split],\n",
    "    'w': data['w'][test_split],\n",
    "    # 't': data['t'][test_split],\n",
    "    'z': data['z'][test_split]\n",
    "}\n",
    "\n",
    "# Scale test data\n",
    "test_data['x'] = scaler.transform(test_data['x'])"
   ]
  },
  {
   "cell_type": "markdown",
   "id": "a4997023bd3b3456",
   "metadata": {
    "collapsed": false
   },
   "source": [
    "In the following snippet, we show how the alpha parameter influences the predictive approach."
   ]
  },
  {
   "cell_type": "code",
   "execution_count": 6,
   "id": "faad7c2a76e46322",
   "metadata": {
    "ExecuteTime": {
     "end_time": "2024-03-17T13:03:20.836471Z",
     "start_time": "2024-03-17T13:00:16.406130Z"
    }
   },
   "outputs": [],
   "source": [
    "alphas = np.linspace(0.1, 1.0, num=10)\n",
    "\n",
    "dfo = pd.DataFrame()\n",
    "# We train a predictor for each alpha level\n",
    "for alpha in alphas:\n",
    "\n",
    "    # We train the predictor\n",
    "    predictor = train_conformance_inference(\n",
    "        data=train_data,\n",
    "        n_folds=n_folds,\n",
    "        n_epochs=n_epochs,\n",
    "        batch_size=batch_size,\n",
    "        learning_rate=learning_rate,\n",
    "        weight_decay=weight_decay,\n",
    "        alpha=alpha,\n",
    "        patience_classification=4,\n",
    "        min_delta_classification=0.0,\n",
    "        patience_regression=6,\n",
    "        min_delta_regression=0.0\n",
    "    )\n",
    "\n",
    "    # We test the predictor\n",
    "    ci_result, correct = predictor.classify(test_data)\n",
    "\n",
    "    result = {\n",
    "        'alpha': alpha,\n",
    "        'correct': correct\n",
    "    }\n",
    "\n",
    "    output_df = pd.DataFrame([result])\n",
    "    dfo = pd.concat([dfo, output_df], ignore_index=True)\n"
   ]
  },
  {
   "cell_type": "code",
   "execution_count": 7,
   "id": "bb4277dd009a2af4",
   "metadata": {
    "ExecuteTime": {
     "end_time": "2024-03-17T13:03:20.850981Z",
     "start_time": "2024-03-17T13:03:20.838028Z"
    }
   },
   "outputs": [
    {
     "data": {
      "text/html": [
       "<div>\n",
       "<style scoped>\n",
       "    .dataframe tbody tr th:only-of-type {\n",
       "        vertical-align: middle;\n",
       "    }\n",
       "\n",
       "    .dataframe tbody tr th {\n",
       "        vertical-align: top;\n",
       "    }\n",
       "\n",
       "    .dataframe thead th {\n",
       "        text-align: right;\n",
       "    }\n",
       "</style>\n",
       "<table border=\"1\" class=\"dataframe\">\n",
       "  <thead>\n",
       "    <tr style=\"text-align: right;\">\n",
       "      <th></th>\n",
       "      <th>alpha</th>\n",
       "      <th>correct</th>\n",
       "    </tr>\n",
       "  </thead>\n",
       "  <tbody>\n",
       "    <tr>\n",
       "      <th>0</th>\n",
       "      <td>0.1</td>\n",
       "      <td>0.909910</td>\n",
       "    </tr>\n",
       "    <tr>\n",
       "      <th>1</th>\n",
       "      <td>0.2</td>\n",
       "      <td>0.756757</td>\n",
       "    </tr>\n",
       "    <tr>\n",
       "      <th>2</th>\n",
       "      <td>0.3</td>\n",
       "      <td>0.701702</td>\n",
       "    </tr>\n",
       "    <tr>\n",
       "      <th>3</th>\n",
       "      <td>0.4</td>\n",
       "      <td>0.672673</td>\n",
       "    </tr>\n",
       "    <tr>\n",
       "      <th>4</th>\n",
       "      <td>0.5</td>\n",
       "      <td>0.543544</td>\n",
       "    </tr>\n",
       "    <tr>\n",
       "      <th>5</th>\n",
       "      <td>0.6</td>\n",
       "      <td>0.398398</td>\n",
       "    </tr>\n",
       "    <tr>\n",
       "      <th>6</th>\n",
       "      <td>0.7</td>\n",
       "      <td>0.323323</td>\n",
       "    </tr>\n",
       "    <tr>\n",
       "      <th>7</th>\n",
       "      <td>0.8</td>\n",
       "      <td>0.182182</td>\n",
       "    </tr>\n",
       "    <tr>\n",
       "      <th>8</th>\n",
       "      <td>0.9</td>\n",
       "      <td>0.097097</td>\n",
       "    </tr>\n",
       "    <tr>\n",
       "      <th>9</th>\n",
       "      <td>1.0</td>\n",
       "      <td>0.000000</td>\n",
       "    </tr>\n",
       "  </tbody>\n",
       "</table>\n",
       "</div>"
      ],
      "text/plain": [
       "   alpha   correct\n",
       "0    0.1  0.909910\n",
       "1    0.2  0.756757\n",
       "2    0.3  0.701702\n",
       "3    0.4  0.672673\n",
       "4    0.5  0.543544\n",
       "5    0.6  0.398398\n",
       "6    0.7  0.323323\n",
       "7    0.8  0.182182\n",
       "8    0.9  0.097097\n",
       "9    1.0  0.000000"
      ]
     },
     "execution_count": 7,
     "metadata": {},
     "output_type": "execute_result"
    }
   ],
   "source": [
    "dfo"
   ]
  }
 ],
 "metadata": {
  "kernelspec": {
   "display_name": "Python 3 (ipykernel)",
   "language": "python",
   "name": "python3"
  },
  "language_info": {
   "codemirror_mode": {
    "name": "ipython",
    "version": 3
   },
   "file_extension": ".py",
   "mimetype": "text/x-python",
   "name": "python",
   "nbconvert_exporter": "python",
   "pygments_lexer": "ipython3",
   "version": "3.10.8"
  }
 },
 "nbformat": 4,
 "nbformat_minor": 5
}
