{
 "cells": [
  {
   "cell_type": "markdown",
   "id": "ca1bb41ae8191eb9",
   "metadata": {},
   "source": [
    "## NHANES Dataset Alpha Analysis\n",
    "\n",
    "This notebook focuses on how alpha parameter influences the predictive model using the National Health and Nutrition Examination Survey (NHANES) dataset. The dataset can be downloaded at https://wwwn.cdc.gov/nchs/nhanes/. \n",
    "\n",
    "The dataset has undergone preprocessing steps which includes removing unnecessary variables as well as missing data. More info in the data directory."
   ]
  },
  {
   "cell_type": "code",
   "execution_count": 1,
   "id": "initial_id",
   "metadata": {
    "ExecuteTime": {
     "end_time": "2024-03-17T12:55:47.390164Z",
     "start_time": "2024-03-17T12:55:43.595910Z"
    },
    "collapsed": true
   },
   "outputs": [],
   "source": [
    "import os\n",
    "import pandas as pd\n",
    "import random\n",
    "import numpy as np\n",
    "import torch\n",
    "from train import train_conformance_inference\n",
    "from data_real import load_data\n",
    "\n",
    "torch.manual_seed(0)\n",
    "random.seed(0)\n",
    "np.random.seed(0)\n"
   ]
  },
  {
   "cell_type": "markdown",
   "id": "331882229721e8c6",
   "metadata": {},
   "source": [
    "We initialize the main parameters used during the training of the predictive model. The model is training using a `n_fold` cross-validation approach. The number of epochs, batch size, learning rate, weight decay are set to 1000, 64, 0.001, and 0.01, respectively. These values ought to be adjusted in accordance with the specific requirements of the problem, potentially through the application of a grid search technique.\n",
    "\n",
    "The classification model is trained with an early stop of 4 and no delta. The regression model uses an early stop of 6 with a no delta."
   ]
  },
  {
   "cell_type": "code",
   "execution_count": 2,
   "id": "35394995442dadc6",
   "metadata": {
    "ExecuteTime": {
     "end_time": "2024-03-17T12:55:47.392867Z",
     "start_time": "2024-03-17T12:55:47.390823Z"
    }
   },
   "outputs": [],
   "source": [
    "n_folds = 5\n",
    "n_epochs = 1000\n",
    "batch_size = 64\n",
    "learning_rate = 0.001\n",
    "weight_decay = 0.01\n",
    "alpha = 0.1\n",
    "patience_classification = 4\n",
    "min_delta_classification = 0.0\n",
    "patience_regression = 6\n",
    "min_delta_regression = 0.0"
   ]
  },
  {
   "cell_type": "markdown",
   "id": "e34d9b60abc7f59b",
   "metadata": {},
   "source": [
    "In this example, we employ a distinct combination of input variables, with the `diabetes` variable serving as the class variable. The dataset is partitioned into training and test sets in a 75/25 ratio."
   ]
  },
  {
   "cell_type": "code",
   "execution_count": 3,
   "id": "24387e4d5fbd4d08",
   "metadata": {
    "ExecuteTime": {
     "end_time": "2024-03-17T12:55:47.889616Z",
     "start_time": "2024-03-17T12:55:47.395556Z"
    }
   },
   "outputs": [],
   "source": [
    "# Clinical measures: body mass index, waist circunference, diastolic and diastolic pressure, pulse, cholesterol\n",
    "selected_combination = ['RIDAGEYR.x', 'BMXHT', 'BMXWT', 'BMXBMI', 'BMXWAIST', 'BPXDI1', 'BPXSY1', 'BPXPLS', 'LBDSCHSI_43', 'LBXSTR_43', 'LBXSGL_43', 'RIAGENDR', 'LBXGH_39']\n",
    "file = os.path.join(\"./real\", \"data_0.csv\")\n",
    "data = load_data(file, selected_combination, 'diabetes')\n",
    "\n",
    "# We divide data into training and test splits in a 75-25 ratio.\n",
    "n = len(data['y'])\n",
    "indices = random.sample(np.arange(n).tolist(), n)\n",
    "train_split = indices[:int((3*n) / 4)]\n",
    "test_split = indices[int((3*n) / 4):]\n",
    "\n",
    "train_data = {\n",
    "    'seqn': data['seqn'][train_split],\n",
    "    'x': data['x'][train_split],\n",
    "    'y': data['y'][train_split],\n",
    "    'w': data['w'][train_split],\n",
    "    'z': data['z'][train_split]\n",
    "}"
   ]
  },
  {
   "cell_type": "markdown",
   "id": "466ae11750efb9b2",
   "metadata": {},
   "source": [
    "We standardize the input data of the training set using the z-score."
   ]
  },
  {
   "cell_type": "code",
   "execution_count": 4,
   "id": "cdad1f2ce2f0e6f1",
   "metadata": {
    "ExecuteTime": {
     "end_time": "2024-03-17T12:55:47.894374Z",
     "start_time": "2024-03-17T12:55:47.889832Z"
    }
   },
   "outputs": [],
   "source": [
    "# Scale training data\n",
    "from sklearn.preprocessing import StandardScaler\n",
    "scaler = StandardScaler()\n",
    "train_data['x'] = scaler.fit_transform(train_data['x'])"
   ]
  },
  {
   "cell_type": "markdown",
   "id": "f77b5599f5dffc56",
   "metadata": {},
   "source": [
    "The input data of the test set are also standardized using the standard scaler previously trained using the training set. "
   ]
  },
  {
   "cell_type": "code",
   "execution_count": 5,
   "id": "24b4726ca76339f9",
   "metadata": {
    "ExecuteTime": {
     "end_time": "2024-03-17T12:55:47.900232Z",
     "start_time": "2024-03-17T12:55:47.895051Z"
    }
   },
   "outputs": [],
   "source": [
    "test_data = {\n",
    "    'seqn': data['seqn'][test_split],\n",
    "    'x': data['x'][test_split],\n",
    "    'y': data['y'][test_split],\n",
    "    'w': data['w'][test_split],\n",
    "    'z': data['z'][test_split]\n",
    "}\n",
    "\n",
    "# Scale test data\n",
    "test_data['x'] = scaler.transform(test_data['x'])"
   ]
  },
  {
   "cell_type": "markdown",
   "id": "e910ce7dfe20af11",
   "metadata": {},
   "source": [
    "In the following snippet, we show how the alpha parameter influences the predictive approach."
   ]
  },
  {
   "cell_type": "code",
   "execution_count": 6,
   "id": "faad7c2a76e46322",
   "metadata": {
    "ExecuteTime": {
     "end_time": "2024-03-17T13:10:15.404914Z",
     "start_time": "2024-03-17T12:55:47.899871Z"
    }
   },
   "outputs": [],
   "source": [
    "alphas = np.linspace(0.1, 1.0, num=10)\n",
    "\n",
    "dfo = pd.DataFrame()\n",
    "# We train a predictor for each alpha level\n",
    "for alpha in alphas:\n",
    "\n",
    "    # We train the predictor\n",
    "    predictor = train_conformance_inference(\n",
    "        data=train_data,\n",
    "        n_folds=n_folds,\n",
    "        n_epochs=n_epochs,\n",
    "        batch_size=batch_size,\n",
    "        learning_rate=learning_rate,\n",
    "        weight_decay=weight_decay,\n",
    "        alpha=alpha,\n",
    "        patience_classification=4,\n",
    "        min_delta_classification=0.0,\n",
    "        patience_regression=6,\n",
    "        min_delta_regression=0.0\n",
    "    )\n",
    "\n",
    "    # We test the predictor\n",
    "    ci_result, correct = predictor.classify(test_data)\n",
    "\n",
    "    result = {\n",
    "        'alpha': alpha,\n",
    "        'correct': correct\n",
    "    }\n",
    "\n",
    "    output_df = pd.DataFrame([result])\n",
    "    dfo = pd.concat([dfo, output_df], ignore_index=True)\n"
   ]
  },
  {
   "cell_type": "code",
   "execution_count": 7,
   "id": "bb4277dd009a2af4",
   "metadata": {
    "ExecuteTime": {
     "end_time": "2024-03-17T13:10:15.422123Z",
     "start_time": "2024-03-17T13:10:15.408761Z"
    }
   },
   "outputs": [
    {
     "data": {
      "text/html": [
       "<div>\n",
       "<style scoped>\n",
       "    .dataframe tbody tr th:only-of-type {\n",
       "        vertical-align: middle;\n",
       "    }\n",
       "\n",
       "    .dataframe tbody tr th {\n",
       "        vertical-align: top;\n",
       "    }\n",
       "\n",
       "    .dataframe thead th {\n",
       "        text-align: right;\n",
       "    }\n",
       "</style>\n",
       "<table border=\"1\" class=\"dataframe\">\n",
       "  <thead>\n",
       "    <tr style=\"text-align: right;\">\n",
       "      <th></th>\n",
       "      <th>alpha</th>\n",
       "      <th>correct</th>\n",
       "    </tr>\n",
       "  </thead>\n",
       "  <tbody>\n",
       "    <tr>\n",
       "      <th>0</th>\n",
       "      <td>0.1</td>\n",
       "      <td>0.901218</td>\n",
       "    </tr>\n",
       "    <tr>\n",
       "      <th>1</th>\n",
       "      <td>0.2</td>\n",
       "      <td>0.804632</td>\n",
       "    </tr>\n",
       "    <tr>\n",
       "      <th>2</th>\n",
       "      <td>0.3</td>\n",
       "      <td>0.715163</td>\n",
       "    </tr>\n",
       "    <tr>\n",
       "      <th>3</th>\n",
       "      <td>0.4</td>\n",
       "      <td>0.574266</td>\n",
       "    </tr>\n",
       "    <tr>\n",
       "      <th>4</th>\n",
       "      <td>0.5</td>\n",
       "      <td>0.564822</td>\n",
       "    </tr>\n",
       "    <tr>\n",
       "      <th>5</th>\n",
       "      <td>0.6</td>\n",
       "      <td>0.400640</td>\n",
       "    </tr>\n",
       "    <tr>\n",
       "      <th>6</th>\n",
       "      <td>0.7</td>\n",
       "      <td>0.305241</td>\n",
       "    </tr>\n",
       "    <tr>\n",
       "      <th>7</th>\n",
       "      <td>0.8</td>\n",
       "      <td>0.194713</td>\n",
       "    </tr>\n",
       "    <tr>\n",
       "      <th>8</th>\n",
       "      <td>0.9</td>\n",
       "      <td>0.094824</td>\n",
       "    </tr>\n",
       "    <tr>\n",
       "      <th>9</th>\n",
       "      <td>1.0</td>\n",
       "      <td>0.000000</td>\n",
       "    </tr>\n",
       "  </tbody>\n",
       "</table>\n",
       "</div>"
      ],
      "text/plain": [
       "   alpha   correct\n",
       "0    0.1  0.901218\n",
       "1    0.2  0.804632\n",
       "2    0.3  0.715163\n",
       "3    0.4  0.574266\n",
       "4    0.5  0.564822\n",
       "5    0.6  0.400640\n",
       "6    0.7  0.305241\n",
       "7    0.8  0.194713\n",
       "8    0.9  0.094824\n",
       "9    1.0  0.000000"
      ]
     },
     "execution_count": 7,
     "metadata": {},
     "output_type": "execute_result"
    }
   ],
   "source": [
    "dfo"
   ]
  }
 ],
 "metadata": {
  "kernelspec": {
   "display_name": "Python 3 (ipykernel)",
   "language": "python",
   "name": "python3"
  },
  "language_info": {
   "codemirror_mode": {
    "name": "ipython",
    "version": 3
   },
   "file_extension": ".py",
   "mimetype": "text/x-python",
   "name": "python",
   "nbconvert_exporter": "python",
   "pygments_lexer": "ipython3",
   "version": "3.10.8"
  }
 },
 "nbformat": 4,
 "nbformat_minor": 5
}
